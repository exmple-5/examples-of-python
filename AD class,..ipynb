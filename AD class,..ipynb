{
 "cells": [
  {
   "cell_type": "code",
   "execution_count": 1,
   "id": "a0adb51b",
   "metadata": {},
   "outputs": [
    {
     "name": "stdout",
     "output_type": "stream",
     "text": [
      "Original DataFrame:\n",
      "   square_feet_area  Year_built  over_all_condition ready_to_move  Sale_price\n",
      "0            8500.0      2003.0                 5.0           Yes      200000\n",
      "1            9600.0      1976.0                 8.0            No      180000\n",
      "2               NaN      2001.0                 6.0            No      215000\n",
      "3           11250.0         NaN                 7.0           NaN      250000\n",
      "4               NaN      1998.0                 NaN            No      210000\n",
      "5            9550.0      2000.0                 7.0           NaN      190000\n",
      "6           14260.0      2006.0                 8.0            No      230000\n",
      "7               NaN      1978.0                 6.0           Yes      225000\n",
      "8           13830.0      1950.0                 NaN            No      220000\n",
      "9           11500.0         NaN                 7.0           Yes      240000\n",
      "\n",
      "Null values per column:\n",
      "square_feet_area      3\n",
      "Year_built            2\n",
      "over_all_condition    2\n",
      "ready_to_move         2\n",
      "Sale_price            0\n",
      "dtype: int64\n",
      "\n",
      "DataFrame after filling missing values:\n",
      "   square_feet_area  Year_built  over_all_condition ready_to_move  Sale_price\n",
      "0       8500.000000      2003.0                5.00           Yes      200000\n",
      "1       9600.000000      1976.0                8.00            No      180000\n",
      "2      11212.857143      2001.0                6.00            No      215000\n",
      "3      11250.000000      1989.0                7.00           NaN      250000\n",
      "4      11212.857143      1998.0                6.75            No      210000\n",
      "5       9550.000000      2000.0                7.00           NaN      190000\n",
      "6      14260.000000      2006.0                8.00            No      230000\n",
      "7      11212.857143      1978.0                6.00           Yes      225000\n",
      "8      13830.000000      1950.0                6.75            No      220000\n",
      "9      11500.000000      1989.0                7.00           Yes      240000\n"
     ]
    }
   ],
   "source": [
    "import pandas as pd\n",
    "import numpy as np\n",
    "\n",
    "data = {\n",
    "    'square_feet_area': [8500, 9600, np.nan, 11250, np.nan, 9550, 14260, np.nan, 13830, 11500],\n",
    "    'Year_built': [2003, 1976, 2001, np.nan, 1998, 2000, 2006, 1978, 1950, np.nan],\n",
    "    'over_all_condition': [5, 8, 6, 7, np.nan, 7, 8, 6, np.nan, 7],\n",
    "    'ready_to_move': ['Yes', 'No', 'No', np.nan, 'No', np.nan, 'No', 'Yes', 'No', 'Yes'],\n",
    "    'Sale_price': [200000, 180000, 215000, 250000, 210000, 190000, 230000, 225000, 220000, 240000]\n",
    "}\n",
    "\n",
    "df = pd.DataFrame(data)\n",
    "print(\"Original DataFrame:\")\n",
    "print(df)\n",
    "\n",
    "# Check for null values\n",
    "print(\"\\nNull values per column:\")\n",
    "print(df.isnull().sum())\n",
    "\n",
    "# Fill missing values\n",
    "df['square_feet_area'].fillna(df['square_feet_area'].mean(), inplace=True)\n",
    "df['Year_built'].fillna(df['Year_built'].mean(), inplace=True)\n",
    "df['over_all_condition'].fillna(df['over_all_condition'].mean(), inplace=True)\n",
    "\n",
    "# Check if missing values are filled\n",
    "print(\"\\nDataFrame after filling missing values:\")\n",
    "print(df)\n"
   ]
  },
  {
   "cell_type": "code",
   "execution_count": null,
   "id": "b576b32c",
   "metadata": {},
   "outputs": [],
   "source": []
  }
 ],
 "metadata": {
  "kernelspec": {
   "display_name": "Python 3 (ipykernel)",
   "language": "python",
   "name": "python3"
  },
  "language_info": {
   "codemirror_mode": {
    "name": "ipython",
    "version": 3
   },
   "file_extension": ".py",
   "mimetype": "text/x-python",
   "name": "python",
   "nbconvert_exporter": "python",
   "pygments_lexer": "ipython3",
   "version": "3.11.4"
  }
 },
 "nbformat": 4,
 "nbformat_minor": 5
}
