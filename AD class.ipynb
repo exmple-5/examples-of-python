{
 "cells": [
  {
   "cell_type": "code",
   "execution_count": 2,
   "id": "1e8004c3",
   "metadata": {},
   "outputs": [],
   "source": [
    "#single line comment"
   ]
  },
  {
   "cell_type": "raw",
   "id": "cebd8964",
   "metadata": {},
   "source": []
  },
  {
   "cell_type": "code",
   "execution_count": 5,
   "id": "768ae4e2",
   "metadata": {},
   "outputs": [],
   "source": [
    "#var can store any value and it can be called at any part of program\n",
    "a=20"
   ]
  },
  {
   "cell_type": "markdown",
   "id": "2dbe90f7",
   "metadata": {},
   "source": []
  },
  {
   "cell_type": "code",
   "execution_count": 6,
   "id": "fafe0227",
   "metadata": {},
   "outputs": [],
   "source": [
    "name=\"Alice\" #string\n",
    "age=40         #integer\n",
    "height=4.4         \n",
    "is_student=True"
   ]
  },
  {
   "cell_type": "code",
   "execution_count": 8,
   "id": "d8947ca7",
   "metadata": {},
   "outputs": [
    {
     "name": "stdout",
     "output_type": "stream",
     "text": [
      "name:  Alice\n",
      "age:  40\n",
      "Height:  4.4\n",
      "Is student:  True\n"
     ]
    }
   ],
   "source": [
    "print(\"name: \", name)\n",
    "print(\"age: \", age)\n",
    "print(\"Height: \", height)\n",
    "print(\"Is student: \", is_student)\n"
   ]
  },
  {
   "cell_type": "code",
   "execution_count": 9,
   "id": "60ce7af8",
   "metadata": {},
   "outputs": [
    {
     "name": "stdout",
     "output_type": "stream",
     "text": [
      "age??29\n"
     ]
    }
   ],
   "source": [
    "a=input(\"age??\")"
   ]
  },
  {
   "cell_type": "code",
   "execution_count": 10,
   "id": "f79a938d",
   "metadata": {},
   "outputs": [
    {
     "data": {
      "text/plain": [
       "'29'"
      ]
     },
     "execution_count": 10,
     "metadata": {},
     "output_type": "execute_result"
    }
   ],
   "source": [
    "a\n"
   ]
  },
  {
   "cell_type": "code",
   "execution_count": 11,
   "id": "76b666d2",
   "metadata": {},
   "outputs": [
    {
     "name": "stdout",
     "output_type": "stream",
     "text": [
      " type.... abc\n"
     ]
    }
   ],
   "source": [
    "b=input(\" type.... \")"
   ]
  },
  {
   "cell_type": "code",
   "execution_count": 12,
   "id": "214b6499",
   "metadata": {},
   "outputs": [
    {
     "data": {
      "text/plain": [
       "'abc'"
      ]
     },
     "execution_count": 12,
     "metadata": {},
     "output_type": "execute_result"
    }
   ],
   "source": [
    "b"
   ]
  },
  {
   "cell_type": "code",
   "execution_count": 13,
   "id": "4804b35e",
   "metadata": {},
   "outputs": [
    {
     "ename": "TypeError",
     "evalue": "can only concatenate str (not \"int\") to str",
     "output_type": "error",
     "traceback": [
      "\u001b[1;31m---------------------------------------------------------------------------\u001b[0m",
      "\u001b[1;31mTypeError\u001b[0m                                 Traceback (most recent call last)",
      "Cell \u001b[1;32mIn[13], line 1\u001b[0m\n\u001b[1;32m----> 1\u001b[0m a\u001b[38;5;241m+\u001b[39m\u001b[38;5;241m20\u001b[39m\n",
      "\u001b[1;31mTypeError\u001b[0m: can only concatenate str (not \"int\") to str"
     ]
    }
   ],
   "source": [
    "#it will show error because it takes input as a string, so it is nt able to perform addition\n",
    "a+20"
   ]
  },
  {
   "cell_type": "code",
   "execution_count": 15,
   "id": "def3615c",
   "metadata": {},
   "outputs": [
    {
     "name": "stdout",
     "output_type": "stream",
     "text": [
      "c: 35\n"
     ]
    }
   ],
   "source": [
    "c=int(input(\"c: \"))"
   ]
  },
  {
   "cell_type": "code",
   "execution_count": 16,
   "id": "dc4e4681",
   "metadata": {},
   "outputs": [
    {
     "data": {
      "text/plain": [
       "80"
      ]
     },
     "execution_count": 16,
     "metadata": {},
     "output_type": "execute_result"
    }
   ],
   "source": [
    "c+45"
   ]
  },
  {
   "cell_type": "code",
   "execution_count": 4,
   "id": "e9796993",
   "metadata": {},
   "outputs": [
    {
     "name": "stdout",
     "output_type": "stream",
     "text": [
      "Sales DataFrame:\n",
      "   TransactionID  CustomerID  Amount        Date\n",
      "0              1         101     250  2025-01-01\n",
      "1              2         102     300  2025-01-02\n",
      "2              3         103     400  2025-01-03\n",
      "3              4         104     500  2025-01-04\n",
      "4              5         101     600  2025-01-05\n",
      "\n",
      "Shape of sales data: (5, 4)\n",
      "\n",
      "Sales data statistics:\n",
      "       TransactionID  CustomerID      Amount\n",
      "count       5.000000     5.00000    5.000000\n",
      "mean        3.000000   102.20000  410.000000\n",
      "std         1.581139     1.30384  143.178211\n",
      "min         1.000000   101.00000  250.000000\n",
      "25%         2.000000   101.00000  300.000000\n",
      "50%         3.000000   102.00000  400.000000\n",
      "75%         4.000000   103.00000  500.000000\n",
      "max         5.000000   104.00000  600.000000\n",
      "Sales dataframe    TransactionID  CustomerID  Amount        Date\n",
      "0              1         101     250  2025-01-01\n",
      "1              2         102     300  2025-01-02\n",
      "2              3         103     400  2025-01-03\n",
      "3              4         104     500  2025-01-04\n",
      "4              5         101     600  2025-01-05\n",
      "customers_df    CustomerID CustomerName  Age         City\n",
      "0         101        Alice   30     New York\n",
      "1         102          Bob   35  Los Angeles\n",
      "2         103      Charlie   40      Chicago\n",
      "3         104        David   25      Houston\n"
     ]
    }
   ],
   "source": [
    "import pandas as pd\n",
    "\n",
    "# Sample data for sales transactions and customer information\n",
    "sales_data = {\n",
    "    'TransactionID': [1, 2, 3, 4, 5],\n",
    "    'CustomerID': [101, 102, 103, 104, 101],\n",
    "    'Amount': [250, 300, 400, 500, 600],\n",
    "    'Date': ['2025-01-01', '2025-01-02', '2025-01-03', '2025-01-04', '2025-01-05']\n",
    "} # Display Amount and Date from sales data\n",
    "customer_data = {\n",
    "    'CustomerID': [101, 102, 103, 104],\n",
    "    'CustomerName': ['Alice', 'Bob', 'Charlie', 'David'],\n",
    "    'Age': [30, 35, 40, 25],\n",
    "    'City': ['New York', 'Los Angeles', 'Chicago', 'Houston']\n",
    "}# Display Customer name and city from customer data\n",
    "# Display customer ids  with amount>400\n",
    "# Convert data into DataFrame\n",
    "sales_df = pd.DataFrame(sales_data)\n",
    "customers_df = pd.DataFrame(customer_data)\n",
    "# Show basic structure of sales_df\n",
    "print(\"Sales DataFrame:\")\n",
    "print(sales_df.head())\n",
    "\n",
    "# 1. Exploring the dataset (using shape and describe)\n",
    "print(\"\\nShape of sales data:\", sales_df.shape)  # Get number of rows and columns\n",
    "print(\"\\nSales data statistics:\")\n",
    "print(sales_df.describe())  # Summary statistics\n",
    "print(\"Sales dataframe\",sales_df)\n",
    "print(\"customers_df\",customers_df)\n",
    "\n",
    "#   Filter a dataframe of sales dataframe where sales amount >400\n",
    "#display(data.loc[(data.Brand == 'Maruti') & (data.Year == 2012)])\n"
   ]
  },
  {
   "cell_type": "code",
   "execution_count": 2,
   "id": "27942430",
   "metadata": {},
   "outputs": [
    {
     "name": "stdout",
     "output_type": "stream",
     "text": [
      "\n",
      "Merged DataFrame:\n",
      "   TransactionID  CustomerID  Amount        Date CustomerName  Age  \\\n",
      "0              1         101     250  2025-01-01        Alice   30   \n",
      "1              5         101     600  2025-01-05        Alice   30   \n",
      "2              2         102     300  2025-01-02          Bob   35   \n",
      "3              3         103     400  2025-01-03      Charlie   40   \n",
      "4              4         104     500  2025-01-04        David   25   \n",
      "\n",
      "          City  \n",
      "0     New York  \n",
      "1     New York  \n",
      "2  Los Angeles  \n",
      "3      Chicago  \n",
      "4      Houston  \n"
     ]
    }
   ],
   "source": [
    "# 2. Merging data (Sales with Customer info)\n",
    "merged_df = pd.merge(sales_df, customers_df, on='CustomerID', how='inner')\n",
    "print(\"\\nMerged DataFrame:\")\n",
    "print(merged_df)\n"
   ]
  },
  {
   "cell_type": "code",
   "execution_count": 5,
   "id": "4157443f",
   "metadata": {},
   "outputs": [
    {
     "name": "stdout",
     "output_type": "stream",
     "text": [
      "\n",
      "Merged DataFrame:\n",
      "   TransactionID  CustomerID  Amount        Date CustomerName  Age  \\\n",
      "0              1         101     250  2025-01-01        Alice   30   \n",
      "1              5         101     600  2025-01-05        Alice   30   \n",
      "2              2         102     300  2025-01-02          Bob   35   \n",
      "3              3         103     400  2025-01-03      Charlie   40   \n",
      "4              4         104     500  2025-01-04        David   25   \n",
      "\n",
      "          City  \n",
      "0     New York  \n",
      "1     New York  \n",
      "2  Los Angeles  \n",
      "3      Chicago  \n",
      "4      Houston  \n",
      "\n",
      "Access data using `loc` (row 1):\n",
      "TransactionID             5\n",
      "CustomerID              101\n",
      "Amount                  600\n",
      "Date             2025-01-05\n",
      "CustomerName          Alice\n",
      "Age                      30\n",
      "City               New York\n",
      "Name: 1, dtype: object\n",
      "\n",
      "Access data using `iloc` (row 2):\n",
      "TransactionID              2\n",
      "CustomerID               102\n",
      "Amount                   300\n",
      "Date              2025-01-02\n",
      "CustomerName             Bob\n",
      "Age                       35\n",
      "City             Los Angeles\n",
      "Name: 2, dtype: object\n",
      "   TransactionID  CustomerID  Amount        Date CustomerName   Age  \\\n",
      "0              1         101     250  2025-01-01        Alice  30.0   \n",
      "1              5         101     600  2025-01-05        Alice  30.0   \n",
      "2              2         102     300  2025-01-02          Bob   NaN   \n",
      "3              3         103     400  2025-01-03      Charlie  40.0   \n",
      "4              4         104     500  2025-01-04        David  25.0   \n",
      "\n",
      "          City  \n",
      "0     New York  \n",
      "1     New York  \n",
      "2  Los Angeles  \n",
      "3      Chicago  \n",
      "4      Houston  \n",
      "\n",
      "Check missing values (isnull):\n",
      "TransactionID    0\n",
      "CustomerID       0\n",
      "Amount           0\n",
      "Date             0\n",
      "CustomerName     0\n",
      "Age              1\n",
      "City             0\n",
      "dtype: int64\n",
      "\n",
      "Data after filling missing values:\n",
      "   TransactionID  CustomerID  Amount        Date CustomerName    Age  \\\n",
      "0              1         101     250  2025-01-01        Alice  30.00   \n",
      "1              5         101     600  2025-01-05        Alice  30.00   \n",
      "2              2         102     300  2025-01-02          Bob  31.25   \n",
      "3              3         103     400  2025-01-03      Charlie  40.00   \n",
      "4              4         104     500  2025-01-04        David  25.00   \n",
      "\n",
      "          City  \n",
      "0     New York  \n",
      "1     New York  \n",
      "2  Los Angeles  \n",
      "3      Chicago  \n",
      "4      Houston  \n",
      "\n",
      "Mean sales per customer:\n",
      "CustomerName\n",
      "Alice      425.0\n",
      "Bob        300.0\n",
      "Charlie    400.0\n",
      "David      500.0\n",
      "Name: Amount, dtype: float64\n"
     ]
    }
   ],
   "source": [
    "# 2. Merging data (Sales with Customer info)\n",
    "merged_df = pd.merge(sales_df, customers_df, on='CustomerID', how='inner')\n",
    "print(\"\\nMerged DataFrame:\")\n",
    "print(merged_df)\n",
    "\n",
    "# 3. Accessing data using `loc` and `iloc`\n",
    "print(\"\\nAccess data using `loc` (row 1):\")\n",
    "print(merged_df.loc[1])\n",
    "\n",
    "print(\"\\nAccess data using `iloc` (row 2):\")\n",
    "print(merged_df.iloc[2])\n",
    "\n",
    "# 4. Handling Missing Values\n",
    "# Let's introduce some missing data for demonstration\n",
    "merged_df.loc[2, 'Age'] = None  # Introduce missing value in Age column\n",
    "print(merged_df)\n",
    "# Check for missing values\n",
    "print(\"\\nCheck missing values (isnull):\")\n",
    "print(merged_df.isnull().sum())\n",
    "\n",
    "# Fill missing values with the mean (for Age column)\n",
    "merged_df['Age'].fillna(merged_df['Age'].mean(), inplace=True)\n",
    "print(\"\\nData after filling missing values:\")\n",
    "print(merged_df)\n",
    "\n",
    "# 5. Aggregation: Calculate the mean sales per customer\n",
    "mean_sales = merged_df.groupby('CustomerName')['Amount'].mean()\n",
    "print(\"\\nMean sales per customer:\")\n",
    "print(mean_sales)\n"
   ]
  },
  {
   "cell_type": "code",
   "execution_count": null,
   "id": "4a987a31",
   "metadata": {},
   "outputs": [],
   "source": []
  }
 ],
 "metadata": {
  "kernelspec": {
   "display_name": "Python 3 (ipykernel)",
   "language": "python",
   "name": "python3"
  },
  "language_info": {
   "codemirror_mode": {
    "name": "ipython",
    "version": 3
   },
   "file_extension": ".py",
   "mimetype": "text/x-python",
   "name": "python",
   "nbconvert_exporter": "python",
   "pygments_lexer": "ipython3",
   "version": "3.11.4"
  }
 },
 "nbformat": 4,
 "nbformat_minor": 5
}
